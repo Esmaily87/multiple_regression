{
 "cells": [
  {
   "cell_type": "markdown",
   "metadata": {},
   "source": []
  },
  {
   "cell_type": "code",
   "execution_count": 24,
   "metadata": {},
   "outputs": [],
   "source": [
    "import gradio as gr\n",
    "import joblib as jb\n",
    "import pandas as pd\n"
   ]
  },
  {
   "cell_type": "code",
   "execution_count": 25,
   "metadata": {},
   "outputs": [],
   "source": [
    "modelo = jb.load('./modelo_colesterol.pkl')"
   ]
  },
  {
   "cell_type": "code",
   "execution_count": 39,
   "metadata": {},
   "outputs": [],
   "source": [
    "def prediction(grupo_sanguineo, fumante, nivel_atividade_fisica, idade, peso, altura):\n",
    "  predicao_individual = {\n",
    "        'grupo_sanguineo': grupo_sanguineo,\n",
    "        'fumante': fumante,\n",
    "        'nivel_atividade_fisica': nivel_atividade_fisica,\n",
    "        'idade': idade,\n",
    "        'peso': peso,\n",
    "        'altura': altura\n",
    "    }\n",
    "  predict_df = pd.DataFrame(predicao_individual, index=[1])\n",
    "  colesterol = modelo.predict(predict_df)\n",
    "  #colesterol_item = colesterol.item()\n",
    "  #return colesterol_item\n",
    "  #return colesterol.item(0)\n",
    "  return float(colesterol.reshape(-1))\n",
    "    \n",
    "   \n"
   ]
  },
  {
   "cell_type": "code",
   "execution_count": 40,
   "metadata": {},
   "outputs": [
    {
     "name": "stderr",
     "output_type": "stream",
     "text": [
      "/var/folders/4t/j53wt7wx151bh37nnw6l72mh0000gn/T/ipykernel_15203/3492976128.py:15: DeprecationWarning: Conversion of an array with ndim > 0 to a scalar is deprecated, and will error in future. Ensure you extract a single element from your array before performing this operation. (Deprecated NumPy 1.25.)\n",
      "  return float(colesterol.reshape(-1))\n"
     ]
    },
    {
     "data": {
      "text/plain": [
       "180.51316856203195"
      ]
     },
     "execution_count": 40,
     "metadata": {},
     "output_type": "execute_result"
    }
   ],
   "source": [
    "prediction('O', 'Não', 'Baixo', 30, 60, 165)"
   ]
  },
  {
   "cell_type": "code",
   "execution_count": 41,
   "metadata": {},
   "outputs": [],
   "source": [
    "demo = gr.Interface(\n",
    "    fn = prediction,\n",
    "    inputs = [\n",
    "        gr.Radio(['O', 'A', 'B', 'AB']),\n",
    "        'checkbox',\n",
    "        gr.Radio(['Baixo', 'Moderado', 'Alto']),\n",
    "        gr.Slider(20, 80, step=1),\n",
    "        gr.Slider(40, 160, step=0.1),\n",
    "        gr.Slider(150, 200, step=1)],\n",
    "    outputs = ['number']\n",
    ")"
   ]
  },
  {
   "cell_type": "code",
   "execution_count": 42,
   "metadata": {},
   "outputs": [
    {
     "name": "stdout",
     "output_type": "stream",
     "text": [
      "Running on local URL:  http://127.0.0.1:7866\n",
      "\n",
      "To create a public link, set `share=True` in `launch()`.\n"
     ]
    },
    {
     "data": {
      "text/html": [
       "<div><iframe src=\"http://127.0.0.1:7866/\" width=\"100%\" height=\"500\" allow=\"autoplay; camera; microphone; clipboard-read; clipboard-write;\" frameborder=\"0\" allowfullscreen></iframe></div>"
      ],
      "text/plain": [
       "<IPython.core.display.HTML object>"
      ]
     },
     "metadata": {},
     "output_type": "display_data"
    },
    {
     "data": {
      "text/plain": []
     },
     "execution_count": 42,
     "metadata": {},
     "output_type": "execute_result"
    },
    {
     "name": "stderr",
     "output_type": "stream",
     "text": [
      "/var/folders/4t/j53wt7wx151bh37nnw6l72mh0000gn/T/ipykernel_15203/3492976128.py:15: DeprecationWarning: Conversion of an array with ndim > 0 to a scalar is deprecated, and will error in future. Ensure you extract a single element from your array before performing this operation. (Deprecated NumPy 1.25.)\n",
      "  return float(colesterol.reshape(-1))\n"
     ]
    }
   ],
   "source": [
    "demo.launch()"
   ]
  },
  {
   "cell_type": "code",
   "execution_count": null,
   "metadata": {},
   "outputs": [],
   "source": []
  }
 ],
 "metadata": {
  "kernelspec": {
   "display_name": "eda-YR4obwTt",
   "language": "python",
   "name": "python3"
  },
  "language_info": {
   "codemirror_mode": {
    "name": "ipython",
    "version": 3
   },
   "file_extension": ".py",
   "mimetype": "text/x-python",
   "name": "python",
   "nbconvert_exporter": "python",
   "pygments_lexer": "ipython3",
   "version": "3.11.8"
  }
 },
 "nbformat": 4,
 "nbformat_minor": 2
}
